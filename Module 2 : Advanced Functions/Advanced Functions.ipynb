{
 "cells": [
  {
   "cell_type": "markdown",
   "id": "ab400429",
   "metadata": {},
   "source": [
    "# Python Zip Function"
   ]
  },
  {
   "cell_type": "code",
   "execution_count": 2,
   "id": "0669d94f",
   "metadata": {},
   "outputs": [
    {
     "name": "stdout",
     "output_type": "stream",
     "text": [
      "(10, 'x')\n",
      "(20, 'y')\n",
      "(30, 'z')\n"
     ]
    }
   ],
   "source": [
    "for item in zip([10, 20, 30], ['x', 'y', 'z']):\n",
    "    print(item)"
   ]
  },
  {
   "cell_type": "code",
   "execution_count": 3,
   "id": "e0f1f984",
   "metadata": {},
   "outputs": [],
   "source": [
    "x = set(zip())"
   ]
  },
  {
   "cell_type": "code",
   "execution_count": 4,
   "id": "4e65e28d",
   "metadata": {},
   "outputs": [
    {
     "data": {
      "text/plain": [
       "set()"
      ]
     },
     "execution_count": 4,
     "metadata": {},
     "output_type": "execute_result"
    }
   ],
   "source": [
    "x"
   ]
  },
  {
   "cell_type": "code",
   "execution_count": 5,
   "id": "59b164ae",
   "metadata": {},
   "outputs": [
    {
     "name": "stdout",
     "output_type": "stream",
     "text": [
      "(10,)\n",
      "(20,)\n",
      "(30,)\n"
     ]
    }
   ],
   "source": [
    "for item in zip([10, 20, 30]):\n",
    "    print(item)"
   ]
  },
  {
   "cell_type": "code",
   "execution_count": 6,
   "id": "a05caad8",
   "metadata": {},
   "outputs": [
    {
     "name": "stdout",
     "output_type": "stream",
     "text": [
      "(10, 'x', '$')\n",
      "(20, 'y', '@')\n",
      "(30, 'z', '#')\n"
     ]
    }
   ],
   "source": [
    "for item in zip([10, 20, 30], ['x', 'y', 'z'], ['$', '@', '#']):\n",
    "    print(item)"
   ]
  },
  {
   "cell_type": "code",
   "execution_count": 7,
   "id": "89a2f74c",
   "metadata": {},
   "outputs": [],
   "source": [
    "x = set(zip([10, 20], [30, 40, 50, 60]))"
   ]
  },
  {
   "cell_type": "code",
   "execution_count": 8,
   "id": "0f10b55e",
   "metadata": {},
   "outputs": [
    {
     "data": {
      "text/plain": [
       "{(10, 30), (20, 40)}"
      ]
     },
     "execution_count": 8,
     "metadata": {},
     "output_type": "execute_result"
    }
   ],
   "source": [
    "x"
   ]
  },
  {
   "cell_type": "code",
   "execution_count": 9,
   "id": "b8cd8da6",
   "metadata": {},
   "outputs": [],
   "source": [
    "from itertools import zip_longest as l1"
   ]
  },
  {
   "cell_type": "code",
   "execution_count": 10,
   "id": "ebe4b7d0",
   "metadata": {},
   "outputs": [],
   "source": [
    "x = set(l1([10, 20], [30, 40, 50, 60]))"
   ]
  },
  {
   "cell_type": "code",
   "execution_count": 11,
   "id": "fb5cf0ae",
   "metadata": {},
   "outputs": [
    {
     "data": {
      "text/plain": [
       "{(10, 30), (20, 40), (None, 50), (None, 60)}"
      ]
     },
     "execution_count": 11,
     "metadata": {},
     "output_type": "execute_result"
    }
   ],
   "source": [
    "x"
   ]
  },
  {
   "cell_type": "code",
   "execution_count": 16,
   "id": "a9771e3d",
   "metadata": {},
   "outputs": [],
   "source": [
    "# unzipping values\n",
    "unzipping = zip([10, 20, 30], ['x', 'y', 'z'], ['$', '@', '#'])\n",
    "x, y , z = zip(*unzipping)"
   ]
  },
  {
   "cell_type": "code",
   "execution_count": 17,
   "id": "4f8e393b",
   "metadata": {},
   "outputs": [
    {
     "name": "stdout",
     "output_type": "stream",
     "text": [
      "(10, 20, 30) ('x', 'y', 'z') ('$', '@', '#')\n"
     ]
    }
   ],
   "source": [
    "print(x, y, z)"
   ]
  },
  {
   "cell_type": "markdown",
   "id": "dc1d34b8",
   "metadata": {},
   "source": [
    "# The eval Function"
   ]
  },
  {
   "cell_type": "code",
   "execution_count": 1,
   "id": "c089938b",
   "metadata": {},
   "outputs": [
    {
     "name": "stdout",
     "output_type": "stream",
     "text": [
      "100\n"
     ]
    }
   ],
   "source": [
    "x = eval('10**2')\n",
    "print(x)"
   ]
  },
  {
   "cell_type": "code",
   "execution_count": 3,
   "id": "9d893a17",
   "metadata": {},
   "outputs": [
    {
     "data": {
      "text/plain": [
       "150"
      ]
     },
     "execution_count": 3,
     "metadata": {},
     "output_type": "execute_result"
    }
   ],
   "source": [
    "eval('sum([10, 20, 30, 40, 50])')"
   ]
  },
  {
   "cell_type": "code",
   "execution_count": 4,
   "id": "1785dacb",
   "metadata": {},
   "outputs": [
    {
     "name": "stdout",
     "output_type": "stream",
     "text": [
      "500\n"
     ]
    }
   ],
   "source": [
    "i = 10\n",
    "print(eval('i*50'))"
   ]
  },
  {
   "cell_type": "code",
   "execution_count": 7,
   "id": "b4b45884",
   "metadata": {},
   "outputs": [
    {
     "name": "stdout",
     "output_type": "stream",
     "text": [
      "100000\n"
     ]
    }
   ],
   "source": [
    "x = 10\n",
    "y = 5\n",
    "\n",
    "print(eval('x ** y', {'x': x, 'y': y})) # globally"
   ]
  },
  {
   "cell_type": "code",
   "execution_count": 9,
   "id": "d02a2f9c",
   "metadata": {},
   "outputs": [
    {
     "name": "stdout",
     "output_type": "stream",
     "text": [
      "-50\n"
     ]
    }
   ],
   "source": [
    "print(eval('x - y', {}, {'x': 50, 'y': 100}))  # with locals "
   ]
  },
  {
   "cell_type": "markdown",
   "id": "eff26e0f",
   "metadata": {},
   "source": [
    "# The memoryview function"
   ]
  },
  {
   "cell_type": "code",
   "execution_count": 10,
   "id": "f45613c6",
   "metadata": {},
   "outputs": [
    {
     "name": "stdout",
     "output_type": "stream",
     "text": [
      "<class 'bytes'>\n"
     ]
    }
   ],
   "source": [
    "x = b'Python Programming'\n",
    "print(type(x))"
   ]
  },
  {
   "cell_type": "code",
   "execution_count": 11,
   "id": "447e900a",
   "metadata": {},
   "outputs": [
    {
     "name": "stdout",
     "output_type": "stream",
     "text": [
      "<class 'memoryview'>\n",
      "<memory at 0x0000010E04906F40>\n"
     ]
    }
   ],
   "source": [
    "new = memoryview(x)\n",
    "print(type(new))\n",
    "print(new)"
   ]
  },
  {
   "cell_type": "code",
   "execution_count": 12,
   "id": "73615b22",
   "metadata": {},
   "outputs": [
    {
     "name": "stdout",
     "output_type": "stream",
     "text": [
      "b'Python Programming'\n"
     ]
    }
   ],
   "source": [
    "print(new.obj)"
   ]
  },
  {
   "cell_type": "code",
   "execution_count": 16,
   "id": "f7b67407",
   "metadata": {},
   "outputs": [
    {
     "name": "stdout",
     "output_type": "stream",
     "text": [
      "[80, 121, 116, 104, 111, 110, 32, 80, 114, 111, 103, 114, 97, 109, 109, 105, 110, 103]\n"
     ]
    }
   ],
   "source": [
    "print(new.tolist())"
   ]
  },
  {
   "cell_type": "code",
   "execution_count": 17,
   "id": "dc11e963",
   "metadata": {},
   "outputs": [
    {
     "name": "stdout",
     "output_type": "stream",
     "text": [
      "<class 'bytearray'>\n"
     ]
    }
   ],
   "source": [
    "x = bytearray(\"Python is so powerful\", \"utf-8\")\n",
    "print(type(x))"
   ]
  },
  {
   "cell_type": "code",
   "execution_count": 18,
   "id": "077132c2",
   "metadata": {},
   "outputs": [
    {
     "name": "stdout",
     "output_type": "stream",
     "text": [
      "<memory at 0x0000010E04906DC0>\n",
      "111\n",
      "o\n"
     ]
    }
   ],
   "source": [
    "y = memoryview(x)\n",
    "print(y)\n",
    "print(y[4])\n",
    "print(chr(y[4]))"
   ]
  },
  {
   "cell_type": "code",
   "execution_count": 19,
   "id": "60c5ed47",
   "metadata": {},
   "outputs": [
    {
     "name": "stdout",
     "output_type": "stream",
     "text": [
      "<class 'bytes'>\n"
     ]
    }
   ],
   "source": [
    "new = y.tobytes()\n",
    "print(type(new))"
   ]
  },
  {
   "cell_type": "code",
   "execution_count": 20,
   "id": "9dcdc4c5",
   "metadata": {},
   "outputs": [
    {
     "name": "stdout",
     "output_type": "stream",
     "text": [
      "b'Python is so powerful'\n"
     ]
    }
   ],
   "source": [
    "print(new)"
   ]
  },
  {
   "cell_type": "code",
   "execution_count": 21,
   "id": "c1168385",
   "metadata": {},
   "outputs": [
    {
     "name": "stdout",
     "output_type": "stream",
     "text": [
      "55\n",
      "<class 'int'>\n"
     ]
    }
   ],
   "source": [
    "x = memoryview(b'45, 77, 88')\n",
    "y = x[4]\n",
    "print(y)\n",
    "print(type(y))"
   ]
  },
  {
   "cell_type": "code",
   "execution_count": 22,
   "id": "faabf4f9",
   "metadata": {},
   "outputs": [
    {
     "name": "stdout",
     "output_type": "stream",
     "text": [
      "<memory at 0x0000010E04906B80>\n"
     ]
    }
   ],
   "source": [
    "x = memoryview(b'Hi, Python Programming')\n",
    "y = x[3:11]\n",
    "print(y)"
   ]
  },
  {
   "cell_type": "code",
   "execution_count": 23,
   "id": "4e487742",
   "metadata": {},
   "outputs": [
    {
     "name": "stdout",
     "output_type": "stream",
     "text": [
      "b' Python '\n"
     ]
    }
   ],
   "source": [
    "print(y.tobytes())"
   ]
  },
  {
   "cell_type": "code",
   "execution_count": 24,
   "id": "f598673d",
   "metadata": {},
   "outputs": [
    {
     "name": "stdout",
     "output_type": "stream",
     "text": [
      "b' Python '\n"
     ]
    }
   ],
   "source": [
    "print(bytes(y))"
   ]
  },
  {
   "cell_type": "code",
   "execution_count": 25,
   "id": "03f2ab63",
   "metadata": {},
   "outputs": [
    {
     "name": "stdout",
     "output_type": "stream",
     "text": [
      "[32, 80, 121, 116, 104, 111, 110, 32]\n",
      "[32, 80, 121, 116, 104, 111, 110, 32]\n"
     ]
    }
   ],
   "source": [
    "print(y.tolist())\n",
    "print(list(y))"
   ]
  },
  {
   "cell_type": "markdown",
   "id": "453e7fa4",
   "metadata": {},
   "source": [
    "# The map function"
   ]
  },
  {
   "cell_type": "code",
   "execution_count": 28,
   "id": "187f7550",
   "metadata": {},
   "outputs": [
    {
     "name": "stdout",
     "output_type": "stream",
     "text": [
      "<map object at 0x0000010E049B4B50>\n"
     ]
    }
   ],
   "source": [
    "new_list = [10, 20, 30, 40, 50]\n",
    "\n",
    "def addition(n):\n",
    "    return n + 10\n",
    "\n",
    "my_list = map(addition, new_list)\n",
    "print(my_list)"
   ]
  },
  {
   "cell_type": "code",
   "execution_count": 29,
   "id": "819858f3",
   "metadata": {},
   "outputs": [
    {
     "name": "stdout",
     "output_type": "stream",
     "text": [
      "20\n",
      "30\n",
      "40\n",
      "50\n",
      "60\n"
     ]
    }
   ],
   "source": [
    "for item in my_list:\n",
    "    print(item)"
   ]
  },
  {
   "cell_type": "code",
   "execution_count": 31,
   "id": "efaa5be0",
   "metadata": {},
   "outputs": [
    {
     "name": "stdout",
     "output_type": "stream",
     "text": [
      "('apple banana', 'watermelon fig')\n"
     ]
    }
   ],
   "source": [
    "def adding(x, y):\n",
    "    return x + y\n",
    "\n",
    "my_list = map(adding, ('apple ', 'watermelon '), ('banana', 'fig'))\n",
    "print(tuple(my_list))"
   ]
  },
  {
   "cell_type": "code",
   "execution_count": 36,
   "id": "b61e1667",
   "metadata": {},
   "outputs": [
    {
     "name": "stdout",
     "output_type": "stream",
     "text": [
      "<map object at 0x0000010E049B4070>\n"
     ]
    }
   ],
   "source": [
    "new_list = [5, 12, 20, 25, 30]\n",
    "cube_n = map(lambda n: n * n * n, new_list)\n",
    "\n",
    "print(cube_n)"
   ]
  },
  {
   "cell_type": "code",
   "execution_count": 37,
   "id": "bd4c1969",
   "metadata": {},
   "outputs": [
    {
     "name": "stdout",
     "output_type": "stream",
     "text": [
      "[125, 1728, 8000, 15625, 27000]\n"
     ]
    }
   ],
   "source": [
    "print(list(cube_n))"
   ]
  },
  {
   "cell_type": "code",
   "execution_count": 38,
   "id": "bca68dac",
   "metadata": {},
   "outputs": [],
   "source": [
    "numbers1 = [10, 20, 30]\n",
    "numbers2 = [40, 50, 60]\n",
    "\n",
    "new_result = map(lambda a, b: a * b, numbers1, numbers2)"
   ]
  },
  {
   "cell_type": "code",
   "execution_count": 39,
   "id": "4cf36599",
   "metadata": {},
   "outputs": [
    {
     "name": "stdout",
     "output_type": "stream",
     "text": [
      "[400, 1000, 1800]\n"
     ]
    }
   ],
   "source": [
    "print(list(new_result))"
   ]
  },
  {
   "cell_type": "markdown",
   "id": "df2967d8",
   "metadata": {},
   "source": [
    "# The enumerate function"
   ]
  },
  {
   "cell_type": "code",
   "execution_count": 42,
   "id": "ea550713",
   "metadata": {},
   "outputs": [
    {
     "name": "stdout",
     "output_type": "stream",
     "text": [
      "<class 'enumerate'>\n"
     ]
    }
   ],
   "source": [
    "names = [\"Ahmed\", \"Ibra\", \"Joe\", \"Marcelo\"]\n",
    "\n",
    "new_enum = enumerate(names, start = 10)\n",
    "print(type(new_enum))"
   ]
  },
  {
   "cell_type": "code",
   "execution_count": 43,
   "id": "37b43211",
   "metadata": {},
   "outputs": [
    {
     "name": "stdout",
     "output_type": "stream",
     "text": [
      "[(10, 'Ahmed'), (11, 'Ibra'), (12, 'Joe'), (13, 'Marcelo')]\n"
     ]
    }
   ],
   "source": [
    "new_list = list(new_enum)\n",
    "print(new_list)"
   ]
  },
  {
   "cell_type": "code",
   "execution_count": 44,
   "id": "99442550",
   "metadata": {},
   "outputs": [
    {
     "name": "stdout",
     "output_type": "stream",
     "text": [
      "0 Ahmed\n",
      "1 Ibra\n",
      "2 Joe\n",
      "3 Marcelo\n"
     ]
    }
   ],
   "source": [
    "for index, name in enumerate(names):\n",
    "    print(index, name)"
   ]
  },
  {
   "cell_type": "code",
   "execution_count": 50,
   "id": "d400307f",
   "metadata": {},
   "outputs": [
    {
     "name": "stdout",
     "output_type": "stream",
     "text": [
      "(0, 'Ahmed')\n",
      "(1, 'Ibra')\n",
      "(2, 'Joe')\n",
      "(3, 'Marcelo')\n"
     ]
    },
    {
     "ename": "StopIteration",
     "evalue": "",
     "output_type": "error",
     "traceback": [
      "\u001b[1;31m---------------------------------------------------------------------------\u001b[0m",
      "\u001b[1;31mStopIteration\u001b[0m                             Traceback (most recent call last)",
      "\u001b[1;32m<ipython-input-50-b6c116df909c>\u001b[0m in \u001b[0;36m<module>\u001b[1;34m\u001b[0m\n\u001b[0;32m      6\u001b[0m \u001b[0mprint\u001b[0m\u001b[1;33m(\u001b[0m\u001b[0mnew_enum\u001b[0m\u001b[1;33m.\u001b[0m\u001b[0m__next__\u001b[0m\u001b[1;33m(\u001b[0m\u001b[1;33m)\u001b[0m\u001b[1;33m)\u001b[0m\u001b[1;33m\u001b[0m\u001b[1;33m\u001b[0m\u001b[0m\n\u001b[0;32m      7\u001b[0m \u001b[0mprint\u001b[0m\u001b[1;33m(\u001b[0m\u001b[0mnew_enum\u001b[0m\u001b[1;33m.\u001b[0m\u001b[0m__next__\u001b[0m\u001b[1;33m(\u001b[0m\u001b[1;33m)\u001b[0m\u001b[1;33m)\u001b[0m\u001b[1;33m\u001b[0m\u001b[1;33m\u001b[0m\u001b[0m\n\u001b[1;32m----> 8\u001b[1;33m \u001b[0mprint\u001b[0m\u001b[1;33m(\u001b[0m\u001b[0mnew_enum\u001b[0m\u001b[1;33m.\u001b[0m\u001b[0m__next__\u001b[0m\u001b[1;33m(\u001b[0m\u001b[1;33m)\u001b[0m\u001b[1;33m)\u001b[0m\u001b[1;33m\u001b[0m\u001b[1;33m\u001b[0m\u001b[0m\n\u001b[0m",
      "\u001b[1;31mStopIteration\u001b[0m: "
     ]
    }
   ],
   "source": [
    "names = [\"Ahmed\", \"Ibra\", \"Joe\", \"Marcelo\"]\n",
    "\n",
    "new_enum = enumerate(names)\n",
    "print(new_enum.__next__())\n",
    "print(new_enum.__next__())\n",
    "print(new_enum.__next__())\n",
    "print(new_enum.__next__())\n",
    "print(new_enum.__next__())"
   ]
  },
  {
   "cell_type": "markdown",
   "id": "8ff9448a",
   "metadata": {},
   "source": [
    "# Execute Code"
   ]
  },
  {
   "cell_type": "code",
   "execution_count": 51,
   "id": "90c320c1",
   "metadata": {},
   "outputs": [
    {
     "name": "stdout",
     "output_type": "stream",
     "text": [
      "Hi, there!\n"
     ]
    }
   ],
   "source": [
    "exec(\"print('Hi, there!')\")"
   ]
  },
  {
   "cell_type": "code",
   "execution_count": 52,
   "id": "198da14d",
   "metadata": {},
   "outputs": [
    {
     "name": "stdout",
     "output_type": "stream",
     "text": [
      "x + y = 30\n"
     ]
    }
   ],
   "source": [
    "new_code = '''x = 10\n",
    "y = 20\n",
    "print('x + y =', x + y)'''\n",
    "exec(new_code)"
   ]
  },
  {
   "cell_type": "code",
   "execution_count": 53,
   "id": "eda8f889",
   "metadata": {},
   "outputs": [
    {
     "name": "stdout",
     "output_type": "stream",
     "text": [
      "Enter Python code here: [print(i ** 2) for i in [10, 20, 30]]\n",
      "100\n",
      "400\n",
      "900\n"
     ]
    }
   ],
   "source": [
    "insert_code = input('Enter Python code here: ')\n",
    "exec(insert_code)"
   ]
  },
  {
   "cell_type": "code",
   "execution_count": 54,
   "id": "41ce8bba",
   "metadata": {},
   "outputs": [
    {
     "name": "stdout",
     "output_type": "stream",
     "text": [
      "10\n"
     ]
    }
   ],
   "source": [
    "exec('print(abs(-10))')"
   ]
  },
  {
   "cell_type": "code",
   "execution_count": 55,
   "id": "01f7ea20",
   "metadata": {},
   "outputs": [
    {
     "name": "stdout",
     "output_type": "stream",
     "text": [
      "['In', 'Out', '_', '_3', '__', '___', '__builtin__', '__builtins__', '__doc__', '__loader__', '__name__', '__package__', '__spec__', '_dh', '_i', '_i1', '_i10', '_i11', '_i12', '_i13', '_i14', '_i15', '_i16', '_i17', '_i18', '_i19', '_i2', '_i20', '_i21', '_i22', '_i23', '_i24', '_i25', '_i26', '_i27', '_i28', '_i29', '_i3', '_i30', '_i31', '_i32', '_i33', '_i34', '_i35', '_i36', '_i37', '_i38', '_i39', '_i4', '_i40', '_i41', '_i42', '_i43', '_i44', '_i45', '_i46', '_i47', '_i48', '_i49', '_i5', '_i50', '_i51', '_i52', '_i53', '_i54', '_i55', '_i6', '_i7', '_i8', '_i9', '_ih', '_ii', '_iii', '_oh', 'adding', 'addition', 'cube_n', 'exit', 'get_ipython', 'i', 'index', 'insert_code', 'item', 'my_list', 'name', 'names', 'new', 'new_code', 'new_enum', 'new_list', 'new_result', 'numbers1', 'numbers2', 'quit', 'x', 'y']\n"
     ]
    }
   ],
   "source": [
    "exec('print(dir())')"
   ]
  },
  {
   "cell_type": "code",
   "execution_count": 58,
   "id": "67f14649",
   "metadata": {},
   "outputs": [
    {
     "name": "stdout",
     "output_type": "stream",
     "text": [
      "4.0\n"
     ]
    }
   ],
   "source": [
    "from math import *\n",
    "\n",
    "code = '''x = sqrt(16)\n",
    "print(x)'''\n",
    "\n",
    "exec(code)"
   ]
  },
  {
   "cell_type": "code",
   "execution_count": null,
   "id": "06912c8c",
   "metadata": {},
   "outputs": [],
   "source": []
  }
 ],
 "metadata": {
  "kernelspec": {
   "display_name": "Python 3",
   "language": "python",
   "name": "python3"
  },
  "language_info": {
   "codemirror_mode": {
    "name": "ipython",
    "version": 3
   },
   "file_extension": ".py",
   "mimetype": "text/x-python",
   "name": "python",
   "nbconvert_exporter": "python",
   "pygments_lexer": "ipython3",
   "version": "3.8.8"
  }
 },
 "nbformat": 4,
 "nbformat_minor": 5
}
