{
 "cells": [
  {
   "cell_type": "code",
   "execution_count": 1,
   "id": "2dc4a3c4",
   "metadata": {},
   "outputs": [],
   "source": [
    "def adding(num):\n",
    "    return num + 1"
   ]
  },
  {
   "cell_type": "code",
   "execution_count": 2,
   "id": "a1e9fda1",
   "metadata": {},
   "outputs": [],
   "source": [
    "adding_one = adding"
   ]
  },
  {
   "cell_type": "code",
   "execution_count": 3,
   "id": "366570b6",
   "metadata": {},
   "outputs": [
    {
     "data": {
      "text/plain": [
       "11"
      ]
     },
     "execution_count": 3,
     "metadata": {},
     "output_type": "execute_result"
    }
   ],
   "source": [
    "adding_one(10)"
   ]
  },
  {
   "cell_type": "code",
   "execution_count": 4,
   "id": "166e33a5",
   "metadata": {},
   "outputs": [
    {
     "data": {
      "text/plain": [
       "21"
      ]
     },
     "execution_count": 4,
     "metadata": {},
     "output_type": "execute_result"
    }
   ],
   "source": [
    "adding_one(20)"
   ]
  },
  {
   "cell_type": "code",
   "execution_count": 5,
   "id": "38690aa2",
   "metadata": {},
   "outputs": [],
   "source": [
    "def adding(num):\n",
    "    def adding_one(num):\n",
    "        return num + 1\n",
    "    \n",
    "    total = adding_one(num)\n",
    "    return total"
   ]
  },
  {
   "cell_type": "code",
   "execution_count": 6,
   "id": "f6ab137c",
   "metadata": {},
   "outputs": [
    {
     "data": {
      "text/plain": [
       "21"
      ]
     },
     "execution_count": 6,
     "metadata": {},
     "output_type": "execute_result"
    }
   ],
   "source": [
    "adding(20)"
   ]
  },
  {
   "cell_type": "code",
   "execution_count": 7,
   "id": "a8e3f90e",
   "metadata": {},
   "outputs": [
    {
     "data": {
      "text/plain": [
       "26"
      ]
     },
     "execution_count": 7,
     "metadata": {},
     "output_type": "execute_result"
    }
   ],
   "source": [
    "adding(25)"
   ]
  },
  {
   "cell_type": "code",
   "execution_count": 10,
   "id": "58830f1c",
   "metadata": {},
   "outputs": [],
   "source": [
    "def adding(num):\n",
    "    return num + 1\n",
    "\n",
    "def calling(new_func):\n",
    "    new_number = 12\n",
    "    return new_func(new_number)"
   ]
  },
  {
   "cell_type": "code",
   "execution_count": 11,
   "id": "f81170af",
   "metadata": {},
   "outputs": [
    {
     "data": {
      "text/plain": [
       "13"
      ]
     },
     "execution_count": 11,
     "metadata": {},
     "output_type": "execute_result"
    }
   ],
   "source": [
    "calling(adding)"
   ]
  },
  {
   "cell_type": "code",
   "execution_count": 17,
   "id": "f48e08af",
   "metadata": {},
   "outputs": [],
   "source": [
    "# return a function from a function\n",
    "def hello():\n",
    "    def greeting():\n",
    "        return \"Hi there\"\n",
    "    return greeting"
   ]
  },
  {
   "cell_type": "code",
   "execution_count": 20,
   "id": "87ce50d2",
   "metadata": {},
   "outputs": [],
   "source": [
    "new_greet = hello()"
   ]
  },
  {
   "cell_type": "code",
   "execution_count": 22,
   "id": "0fe1c420",
   "metadata": {},
   "outputs": [
    {
     "data": {
      "text/plain": [
       "'Hi there'"
      ]
     },
     "execution_count": 22,
     "metadata": {},
     "output_type": "execute_result"
    }
   ],
   "source": [
    "new_greet()"
   ]
  },
  {
   "cell_type": "code",
   "execution_count": 23,
   "id": "6e2d5f8d",
   "metadata": {},
   "outputs": [],
   "source": [
    "# Closure\n",
    "def new_message(text):\n",
    "    \"Outer message\"\n",
    "    def another_message():\n",
    "        \"Our nested message\"\n",
    "        print(text)\n",
    "    another_message()"
   ]
  },
  {
   "cell_type": "code",
   "execution_count": 24,
   "id": "5bd733e4",
   "metadata": {},
   "outputs": [
    {
     "name": "stdout",
     "output_type": "stream",
     "text": [
      "Hello, this is a random text message\n"
     ]
    }
   ],
   "source": [
    "new_message(\"Hello, this is a random text message\")"
   ]
  },
  {
   "cell_type": "code",
   "execution_count": 25,
   "id": "98d75236",
   "metadata": {},
   "outputs": [],
   "source": [
    "def new_capital(new_func):\n",
    "    def new_inner():\n",
    "        the_func = new_func()\n",
    "        upper_case = the_func.upper()\n",
    "        return upper_case\n",
    "    \n",
    "    return new_inner"
   ]
  },
  {
   "cell_type": "code",
   "execution_count": 26,
   "id": "27bdabdc",
   "metadata": {},
   "outputs": [],
   "source": [
    "def greeting():\n",
    "    return \"Hi, Python Programming\"\n",
    "\n",
    "new_decorating = new_capital(greeting)"
   ]
  },
  {
   "cell_type": "code",
   "execution_count": 27,
   "id": "e1eb427d",
   "metadata": {},
   "outputs": [
    {
     "data": {
      "text/plain": [
       "'HI, PYTHON PROGRAMMING'"
      ]
     },
     "execution_count": 27,
     "metadata": {},
     "output_type": "execute_result"
    }
   ],
   "source": [
    "new_decorating()"
   ]
  },
  {
   "cell_type": "code",
   "execution_count": 28,
   "id": "2bc4b60e",
   "metadata": {},
   "outputs": [
    {
     "data": {
      "text/plain": [
       "'HI, PYTHON PROGRAMMING'"
      ]
     },
     "execution_count": 28,
     "metadata": {},
     "output_type": "execute_result"
    }
   ],
   "source": [
    "# The same as\n",
    "@new_capital\n",
    "\n",
    "def greeting():\n",
    "    return \"Hi, Python Programming\"\n",
    "\n",
    "greeting()"
   ]
  },
  {
   "cell_type": "code",
   "execution_count": null,
   "id": "e7c397c8",
   "metadata": {},
   "outputs": [],
   "source": []
  }
 ],
 "metadata": {
  "kernelspec": {
   "display_name": "Python 3",
   "language": "python",
   "name": "python3"
  },
  "language_info": {
   "codemirror_mode": {
    "name": "ipython",
    "version": 3
   },
   "file_extension": ".py",
   "mimetype": "text/x-python",
   "name": "python",
   "nbconvert_exporter": "python",
   "pygments_lexer": "ipython3",
   "version": "3.8.8"
  }
 },
 "nbformat": 4,
 "nbformat_minor": 5
}
