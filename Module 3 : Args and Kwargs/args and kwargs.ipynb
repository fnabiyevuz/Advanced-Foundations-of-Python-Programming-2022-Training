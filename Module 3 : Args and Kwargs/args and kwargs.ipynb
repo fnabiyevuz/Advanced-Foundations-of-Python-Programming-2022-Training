{
 "cells": [
  {
   "cell_type": "markdown",
   "id": "76621504",
   "metadata": {},
   "source": [
    "# The *args"
   ]
  },
  {
   "cell_type": "code",
   "execution_count": 4,
   "id": "09868df6",
   "metadata": {},
   "outputs": [],
   "source": [
    "def addition(*args):\n",
    "    result = 0\n",
    "    for x in args:\n",
    "        result = result + x\n",
    "    print(result)"
   ]
  },
  {
   "cell_type": "code",
   "execution_count": 5,
   "id": "25929f3f",
   "metadata": {},
   "outputs": [
    {
     "name": "stdout",
     "output_type": "stream",
     "text": [
      "60\n"
     ]
    }
   ],
   "source": [
    "addition(10, 20, 30)"
   ]
  },
  {
   "cell_type": "code",
   "execution_count": 6,
   "id": "2fbf4a37",
   "metadata": {},
   "outputs": [
    {
     "name": "stdout",
     "output_type": "stream",
     "text": [
      "15\n"
     ]
    }
   ],
   "source": [
    "addition(1, 2, 3, 4, 5)"
   ]
  },
  {
   "cell_type": "markdown",
   "id": "85b5fae7",
   "metadata": {},
   "source": [
    "# The **kwargs"
   ]
  },
  {
   "cell_type": "code",
   "execution_count": 12,
   "id": "fccd5883",
   "metadata": {},
   "outputs": [],
   "source": [
    "def newOrder(**kwargs):\n",
    "    for key, value in kwargs.items():\n",
    "        print(\"{} is equal to {}\".format(key, value))"
   ]
  },
  {
   "cell_type": "code",
   "execution_count": 14,
   "id": "567f0838",
   "metadata": {},
   "outputs": [
    {
     "name": "stdout",
     "output_type": "stream",
     "text": [
      "Tea is equal to Green\n",
      "price is equal to 1.8\n",
      "size is equal to medium\n",
      "sugar is equal to True\n"
     ]
    }
   ],
   "source": [
    "newOrder(Tea = \"Green\", price = 1.8, size = \"medium\", sugar = True)"
   ]
  },
  {
   "cell_type": "code",
   "execution_count": null,
   "id": "3ed6fbc3",
   "metadata": {},
   "outputs": [],
   "source": []
  }
 ],
 "metadata": {
  "kernelspec": {
   "display_name": "Python 3",
   "language": "python",
   "name": "python3"
  },
  "language_info": {
   "codemirror_mode": {
    "name": "ipython",
    "version": 3
   },
   "file_extension": ".py",
   "mimetype": "text/x-python",
   "name": "python",
   "nbconvert_exporter": "python",
   "pygments_lexer": "ipython3",
   "version": "3.8.8"
  }
 },
 "nbformat": 4,
 "nbformat_minor": 5
}
