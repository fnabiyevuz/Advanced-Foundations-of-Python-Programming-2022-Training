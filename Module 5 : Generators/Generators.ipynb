{
 "cells": [
  {
   "cell_type": "markdown",
   "id": "689ff9da",
   "metadata": {},
   "source": [
    "# Generators"
   ]
  },
  {
   "cell_type": "code",
   "execution_count": 7,
   "id": "e8a739be",
   "metadata": {},
   "outputs": [],
   "source": [
    "def new_generator():\n",
    "    x = 0\n",
    "    print(\"Our first point here\")\n",
    "    yield x\n",
    "    x += 1\n",
    "    print(\"Our second point here\")\n",
    "    yield x\n",
    "    x += 1\n",
    "    print(\"Our third point here\")\n",
    "    yield x"
   ]
  },
  {
   "cell_type": "code",
   "execution_count": 8,
   "id": "c21e8ed2",
   "metadata": {},
   "outputs": [],
   "source": [
    "new_ob = new_generator()"
   ]
  },
  {
   "cell_type": "code",
   "execution_count": 3,
   "id": "02b6c72c",
   "metadata": {},
   "outputs": [
    {
     "name": "stdout",
     "output_type": "stream",
     "text": [
      "<generator object new_generator at 0x000002858231B900>\n"
     ]
    }
   ],
   "source": [
    "print(new_ob)"
   ]
  },
  {
   "cell_type": "code",
   "execution_count": 4,
   "id": "24a48154",
   "metadata": {},
   "outputs": [
    {
     "name": "stdout",
     "output_type": "stream",
     "text": [
      "Our first point here\n",
      "The value of x is 0\n",
      "Our second point here\n",
      "The value of x is 1\n",
      "Our third point here\n",
      "The value of x is 2\n"
     ]
    }
   ],
   "source": [
    "print(f\"The value of x is {next(new_ob)}\")\n",
    "print(f\"The value of x is {next(new_ob)}\")\n",
    "print(f\"The value of x is {next(new_ob)}\")"
   ]
  },
  {
   "cell_type": "code",
   "execution_count": 5,
   "id": "d4a4ae49",
   "metadata": {},
   "outputs": [
    {
     "ename": "StopIteration",
     "evalue": "",
     "output_type": "error",
     "traceback": [
      "\u001b[1;31m---------------------------------------------------------------------------\u001b[0m",
      "\u001b[1;31mStopIteration\u001b[0m                             Traceback (most recent call last)",
      "\u001b[1;32m<ipython-input-5-be9c7ea34c0b>\u001b[0m in \u001b[0;36m<module>\u001b[1;34m\u001b[0m\n\u001b[1;32m----> 1\u001b[1;33m \u001b[0mprint\u001b[0m\u001b[1;33m(\u001b[0m\u001b[1;34mf\"The value of x is {next(new_ob)}\"\u001b[0m\u001b[1;33m)\u001b[0m\u001b[1;33m\u001b[0m\u001b[1;33m\u001b[0m\u001b[0m\n\u001b[0m",
      "\u001b[1;31mStopIteration\u001b[0m: "
     ]
    }
   ],
   "source": [
    "print(f\"The value of x is {next(new_ob)}\")"
   ]
  },
  {
   "cell_type": "code",
   "execution_count": 9,
   "id": "6605e873",
   "metadata": {},
   "outputs": [
    {
     "name": "stdout",
     "output_type": "stream",
     "text": [
      "Our first point here\n",
      "The value of x is 0\n",
      "Our second point here\n",
      "The value of x is 1\n",
      "Our third point here\n",
      "The value of x is 2\n"
     ]
    }
   ],
   "source": [
    "for i in new_ob:\n",
    "    print(f\"The value of x is {i}\")"
   ]
  },
  {
   "cell_type": "code",
   "execution_count": 10,
   "id": "c07399e4",
   "metadata": {},
   "outputs": [
    {
     "name": "stdout",
     "output_type": "stream",
     "text": [
      "[0, 1, 4, 9, 16, 25, 36, 49, 64, 81, 100, 121]\n",
      "<generator object <genexpr> at 0x00000285824354A0>\n"
     ]
    }
   ],
   "source": [
    "# Use generator expression\n",
    "new_list = [i * i for i in range(0, 12)]  # Using list comprehension\n",
    "new_generator = (i * i for i in range(0, 12))\n",
    "\n",
    "print(new_list)\n",
    "print(new_generator)"
   ]
  },
  {
   "cell_type": "code",
   "execution_count": 11,
   "id": "dfe573f2",
   "metadata": {},
   "outputs": [
    {
     "name": "stdout",
     "output_type": "stream",
     "text": [
      "0\n",
      "1\n",
      "4\n",
      "9\n",
      "16\n",
      "25\n",
      "36\n",
      "49\n",
      "64\n",
      "81\n",
      "100\n",
      "121\n"
     ]
    }
   ],
   "source": [
    "for num in new_generator:\n",
    "    print(num)"
   ]
  },
  {
   "cell_type": "code",
   "execution_count": null,
   "id": "90b50fa7",
   "metadata": {},
   "outputs": [],
   "source": []
  }
 ],
 "metadata": {
  "kernelspec": {
   "display_name": "Python 3",
   "language": "python",
   "name": "python3"
  },
  "language_info": {
   "codemirror_mode": {
    "name": "ipython",
    "version": 3
   },
   "file_extension": ".py",
   "mimetype": "text/x-python",
   "name": "python",
   "nbconvert_exporter": "python",
   "pygments_lexer": "ipython3",
   "version": "3.8.8"
  }
 },
 "nbformat": 4,
 "nbformat_minor": 5
}
