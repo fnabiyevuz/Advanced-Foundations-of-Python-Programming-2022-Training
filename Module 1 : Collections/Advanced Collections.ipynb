{
 "cells": [
  {
   "cell_type": "markdown",
   "id": "30cae0cb",
   "metadata": {},
   "source": [
    "# Namedtuple"
   ]
  },
  {
   "cell_type": "code",
   "execution_count": 6,
   "id": "c1a63267",
   "metadata": {},
   "outputs": [],
   "source": [
    "from collections import namedtuple"
   ]
  },
  {
   "cell_type": "code",
   "execution_count": 7,
   "id": "1fac6b21",
   "metadata": {},
   "outputs": [],
   "source": [
    "Point_2d = namedtuple('Point_2D', ['x', 'y'])"
   ]
  },
  {
   "cell_type": "code",
   "execution_count": 8,
   "id": "acbabf03",
   "metadata": {},
   "outputs": [],
   "source": [
    "new_point = Point_2d(50, 100)"
   ]
  },
  {
   "cell_type": "code",
   "execution_count": 9,
   "id": "aefad360",
   "metadata": {},
   "outputs": [
    {
     "data": {
      "text/plain": [
       "Point_2D(x=50, y=100)"
      ]
     },
     "execution_count": 9,
     "metadata": {},
     "output_type": "execute_result"
    }
   ],
   "source": [
    "new_point"
   ]
  },
  {
   "cell_type": "code",
   "execution_count": 10,
   "id": "5d794220",
   "metadata": {},
   "outputs": [
    {
     "name": "stdout",
     "output_type": "stream",
     "text": [
      "True\n",
      "True\n"
     ]
    }
   ],
   "source": [
    "print(isinstance(new_point, Point_2d))\n",
    "print(isinstance(new_point, tuple))"
   ]
  },
  {
   "cell_type": "code",
   "execution_count": 11,
   "id": "fc9b8454",
   "metadata": {},
   "outputs": [
    {
     "name": "stdout",
     "output_type": "stream",
     "text": [
      "50, 100\n"
     ]
    }
   ],
   "source": [
    "# unpacking tuple\n",
    "x, y = new_point\n",
    "print(f'{x}, {y}')"
   ]
  },
  {
   "cell_type": "code",
   "execution_count": 12,
   "id": "3743deef",
   "metadata": {},
   "outputs": [
    {
     "name": "stdout",
     "output_type": "stream",
     "text": [
      "(50, 100)\n"
     ]
    }
   ],
   "source": [
    "# index numbers\n",
    "x = new_point[0]\n",
    "y = new_point[1]\n",
    "print(f'({x}, {y})')"
   ]
  },
  {
   "cell_type": "code",
   "execution_count": 13,
   "id": "861a4fec",
   "metadata": {},
   "outputs": [
    {
     "name": "stdout",
     "output_type": "stream",
     "text": [
      "50\n",
      "100\n"
     ]
    }
   ],
   "source": [
    "# Iterate over new point\n",
    "for item in new_point:\n",
    "    print(item)"
   ]
  },
  {
   "cell_type": "code",
   "execution_count": 18,
   "id": "776d648a",
   "metadata": {},
   "outputs": [],
   "source": [
    "new_circle = namedtuple('new_circle',\n",
    "                       'center_x, center_y, _radius',\n",
    "                       rename=True\n",
    "                       )"
   ]
  },
  {
   "cell_type": "code",
   "execution_count": 19,
   "id": "3997854b",
   "metadata": {},
   "outputs": [
    {
     "name": "stdout",
     "output_type": "stream",
     "text": [
      "('center_x', 'center_y', '_2')\n"
     ]
    }
   ],
   "source": [
    "print(new_circle._fields)"
   ]
  },
  {
   "cell_type": "markdown",
   "id": "300f9f72",
   "metadata": {},
   "source": [
    "# The defaultdict"
   ]
  },
  {
   "cell_type": "code",
   "execution_count": 9,
   "id": "ec9ea487",
   "metadata": {},
   "outputs": [
    {
     "ename": "KeyError",
     "evalue": "4",
     "output_type": "error",
     "traceback": [
      "\u001b[1;31m---------------------------------------------------------------------------\u001b[0m",
      "\u001b[1;31mKeyError\u001b[0m                                  Traceback (most recent call last)",
      "\u001b[1;32m<ipython-input-9-fe42843292c8>\u001b[0m in \u001b[0;36m<module>\u001b[1;34m\u001b[0m\n\u001b[0;32m      1\u001b[0m \u001b[0mnew_dict\u001b[0m \u001b[1;33m=\u001b[0m \u001b[0mdict\u001b[0m\u001b[1;33m(\u001b[0m\u001b[1;33m)\u001b[0m\u001b[1;33m\u001b[0m\u001b[1;33m\u001b[0m\u001b[0m\n\u001b[1;32m----> 2\u001b[1;33m \u001b[0mprint\u001b[0m\u001b[1;33m(\u001b[0m\u001b[0mnew_dict\u001b[0m\u001b[1;33m[\u001b[0m\u001b[1;36m4\u001b[0m\u001b[1;33m]\u001b[0m\u001b[1;33m)\u001b[0m\u001b[1;33m\u001b[0m\u001b[1;33m\u001b[0m\u001b[0m\n\u001b[0m",
      "\u001b[1;31mKeyError\u001b[0m: 4"
     ]
    }
   ],
   "source": [
    "new_dict = dict()\n",
    "print(new_dict[4])"
   ]
  },
  {
   "cell_type": "code",
   "execution_count": 10,
   "id": "fa24a61a",
   "metadata": {},
   "outputs": [
    {
     "name": "stdout",
     "output_type": "stream",
     "text": [
      "0\n"
     ]
    }
   ],
   "source": [
    "from collections import defaultdict\n",
    "\n",
    "new_defaultdict = defaultdict(int)\n",
    "print(new_defaultdict[4])"
   ]
  },
  {
   "cell_type": "code",
   "execution_count": 11,
   "id": "6987f9ae",
   "metadata": {},
   "outputs": [
    {
     "name": "stdout",
     "output_type": "stream",
     "text": [
      "{'Five': {'5', 5}, 'Ten': {10, '10'}, 'Fifteen': set()}\n"
     ]
    }
   ],
   "source": [
    "from collections import defaultdict\n",
    "\n",
    "new_defaultdict = defaultdict(set)\n",
    "\n",
    "new_defaultdict['Five'].add(5)\n",
    "new_defaultdict['Ten'].add(10)\n",
    "new_defaultdict['Five'].add('5')\n",
    "new_defaultdict['Ten'].add(\"10\")\n",
    "new_defaultdict['Fifteen']\n",
    "\n",
    "print(dict(new_defaultdict.items()))"
   ]
  },
  {
   "cell_type": "code",
   "execution_count": 12,
   "id": "8f41c5a2",
   "metadata": {},
   "outputs": [
    {
     "name": "stdout",
     "output_type": "stream",
     "text": [
      "{'Five': [5, '5'], 'Ten': [10, '10'], 'Fifteen': []}\n"
     ]
    }
   ],
   "source": [
    "from collections import defaultdict\n",
    "\n",
    "new_defaultdict = defaultdict(list)\n",
    "\n",
    "new_defaultdict['Five'].append(5)\n",
    "new_defaultdict['Ten'].append(10)\n",
    "new_defaultdict['Five'].append('5')\n",
    "new_defaultdict['Ten'].append(\"10\")\n",
    "new_defaultdict['Fifteen']\n",
    "\n",
    "print(dict(new_defaultdict.items()))"
   ]
  },
  {
   "cell_type": "markdown",
   "id": "295d67cc",
   "metadata": {},
   "source": [
    "# Counters"
   ]
  },
  {
   "cell_type": "code",
   "execution_count": 13,
   "id": "e7ad2168",
   "metadata": {},
   "outputs": [
    {
     "name": "stdout",
     "output_type": "stream",
     "text": [
      "Counter({'b': 4, 'a': 3, 'c': 2})\n"
     ]
    }
   ],
   "source": [
    "from collections import Counter\n",
    "\n",
    "new_list = ['a', 'b', 'c', 'a', 'b', 'b', 'a', 'c', 'b']\n",
    "print(Counter(new_list))"
   ]
  },
  {
   "cell_type": "code",
   "execution_count": 14,
   "id": "04c32cd3",
   "metadata": {},
   "outputs": [
    {
     "name": "stdout",
     "output_type": "stream",
     "text": [
      "Counter({'o': 4, 'e': 3, ' ': 3, 'a': 3, 'd': 3, 'n': 3, 'c': 2, 't': 2, 'W': 1, 'l': 1, 'm': 1, 'v': 1, 'f': 1, 'u': 1, 'i': 1, 's': 1})\n"
     ]
    }
   ],
   "source": [
    "# Counter with str\n",
    "from collections import Counter\n",
    "\n",
    "new_str = \"Welcome to advanced foundations\"\n",
    "print(Counter(new_str))"
   ]
  },
  {
   "cell_type": "code",
   "execution_count": 15,
   "id": "b3641dd6",
   "metadata": {},
   "outputs": [
    {
     "name": "stdout",
     "output_type": "stream",
     "text": [
      "Counter({'b': 4, 'a': 3, 'c': 2, 'd': 1})\n"
     ]
    }
   ],
   "source": [
    "# Counter with list\n",
    "from collections import Counter\n",
    "\n",
    "new_list = ['a', 'b', 'c', 'a', 'b', 'b', 'a', 'c', 'b', 'd']\n",
    "print(Counter(new_list))"
   ]
  },
  {
   "cell_type": "code",
   "execution_count": 17,
   "id": "25f5c84d",
   "metadata": {},
   "outputs": [
    {
     "name": "stdout",
     "output_type": "stream",
     "text": [
      "Counter({'d': 4, 'c': 3, 'b': 2, 'a': 1})\n"
     ]
    }
   ],
   "source": [
    "# Counter with dict\n",
    "from collections import Counter\n",
    "\n",
    "new_dict = {'a': 1, \"b\": 2, \"c\": 3, \"d\": 4, \"d\": 4}\n",
    "print(Counter(new_dict))"
   ]
  },
  {
   "cell_type": "code",
   "execution_count": 18,
   "id": "ca592faa",
   "metadata": {},
   "outputs": [
    {
     "name": "stdout",
     "output_type": "stream",
     "text": [
      "Counter({'apple': 3, 'banana': 2, 'cherry': 2, 'fig': 1})\n"
     ]
    }
   ],
   "source": [
    "# Counter with tuple\n",
    "from collections import Counter\n",
    "\n",
    "new_tuple = ('apple', 'banana', 'cherry', 'apple', 'apple', 'banana', 'fig', 'cherry')\n",
    "print(Counter(new_tuple))"
   ]
  },
  {
   "cell_type": "code",
   "execution_count": 19,
   "id": "d661f19d",
   "metadata": {},
   "outputs": [],
   "source": [
    "# empty Counter\n",
    "from collections import Counter\n",
    "_counting = Counter()"
   ]
  },
  {
   "cell_type": "code",
   "execution_count": 20,
   "id": "df073f46",
   "metadata": {},
   "outputs": [
    {
     "data": {
      "text/plain": [
       "Counter()"
      ]
     },
     "execution_count": 20,
     "metadata": {},
     "output_type": "execute_result"
    }
   ],
   "source": [
    "_counting"
   ]
  },
  {
   "cell_type": "code",
   "execution_count": 23,
   "id": "d280cf38",
   "metadata": {},
   "outputs": [],
   "source": [
    "_counting.update(\"Hi, Python is fun!\")"
   ]
  },
  {
   "cell_type": "code",
   "execution_count": 24,
   "id": "8ce8c635",
   "metadata": {},
   "outputs": [
    {
     "data": {
      "text/plain": [
       "Counter({'H': 2,\n",
       "         'i': 3,\n",
       "         ',': 2,\n",
       "         ' ': 4,\n",
       "         'P': 2,\n",
       "         'y': 2,\n",
       "         't': 2,\n",
       "         'h': 2,\n",
       "         'o': 2,\n",
       "         'n': 3,\n",
       "         '!': 2,\n",
       "         's': 1,\n",
       "         'f': 1,\n",
       "         'u': 1})"
      ]
     },
     "execution_count": 24,
     "metadata": {},
     "output_type": "execute_result"
    }
   ],
   "source": [
    "_counting"
   ]
  },
  {
   "cell_type": "code",
   "execution_count": 25,
   "id": "beec455a",
   "metadata": {},
   "outputs": [
    {
     "name": "stdout",
     "output_type": "stream",
     "text": [
      "Counter({'c': 3, 'b': 2, 'a': 1})\n"
     ]
    }
   ],
   "source": [
    "# delete from counter\n",
    "from collections import Counter\n",
    "\n",
    "new_dict = {'a': 1, \"b\": 2, \"c\": 3, \"d\": 4, \"d\": 4}\n",
    "del new_dict[\"d\"]\n",
    "print(Counter(new_dict))"
   ]
  },
  {
   "cell_type": "markdown",
   "id": "8f283133",
   "metadata": {},
   "source": [
    "# The OrderedDict"
   ]
  },
  {
   "cell_type": "code",
   "execution_count": 43,
   "id": "02e5dee1",
   "metadata": {},
   "outputs": [],
   "source": [
    "from collections import OrderedDict"
   ]
  },
  {
   "cell_type": "code",
   "execution_count": 44,
   "id": "c3c0e5fc",
   "metadata": {},
   "outputs": [],
   "source": [
    "# Create dict\n",
    "new_dict = {'apple': 3, \"banana\": 7, \"cherry\": 4}"
   ]
  },
  {
   "cell_type": "code",
   "execution_count": 45,
   "id": "5017fe2d",
   "metadata": {},
   "outputs": [
    {
     "data": {
      "text/plain": [
       "{'apple': 3, 'banana': 7, 'cherry': 4}"
      ]
     },
     "execution_count": 45,
     "metadata": {},
     "output_type": "execute_result"
    }
   ],
   "source": [
    "new_dict"
   ]
  },
  {
   "cell_type": "code",
   "execution_count": 46,
   "id": "b561c022",
   "metadata": {},
   "outputs": [],
   "source": [
    "# empty ordered dict\n",
    "new_ordereddict = OrderedDict()"
   ]
  },
  {
   "cell_type": "code",
   "execution_count": 47,
   "id": "2608cd9a",
   "metadata": {},
   "outputs": [
    {
     "name": "stdout",
     "output_type": "stream",
     "text": [
      "OrderedDict()\n"
     ]
    }
   ],
   "source": [
    "print(new_ordereddict)"
   ]
  },
  {
   "cell_type": "code",
   "execution_count": 48,
   "id": "9eb0ff35",
   "metadata": {},
   "outputs": [],
   "source": [
    "# ordered dict from regular dict\n",
    "new_ordereddict = OrderedDict(new_dict)"
   ]
  },
  {
   "cell_type": "code",
   "execution_count": 49,
   "id": "0bd3b602",
   "metadata": {},
   "outputs": [
    {
     "name": "stdout",
     "output_type": "stream",
     "text": [
      "OrderedDict([('apple', 3), ('banana', 7), ('cherry', 4)])\n"
     ]
    }
   ],
   "source": [
    "print(new_ordereddict)"
   ]
  },
  {
   "cell_type": "code",
   "execution_count": 50,
   "id": "52c8c8bd",
   "metadata": {},
   "outputs": [],
   "source": [
    "# add item to dictionary\n",
    "new_ordereddict['fig'] = 5"
   ]
  },
  {
   "cell_type": "code",
   "execution_count": 51,
   "id": "1fee45cd",
   "metadata": {},
   "outputs": [
    {
     "name": "stdout",
     "output_type": "stream",
     "text": [
      "OrderedDict([('apple', 3), ('banana', 7), ('cherry', 4), ('fig', 5)])\n"
     ]
    }
   ],
   "source": [
    "print(new_ordereddict)"
   ]
  },
  {
   "cell_type": "code",
   "execution_count": 52,
   "id": "82cf9179",
   "metadata": {},
   "outputs": [],
   "source": [
    "# replace item in a dict\n",
    "new_ordereddict['apple'] = 10"
   ]
  },
  {
   "cell_type": "code",
   "execution_count": 53,
   "id": "962104bf",
   "metadata": {},
   "outputs": [
    {
     "name": "stdout",
     "output_type": "stream",
     "text": [
      "OrderedDict([('apple', 10), ('banana', 7), ('cherry', 4), ('fig', 5)])\n"
     ]
    }
   ],
   "source": [
    "print(new_ordereddict)"
   ]
  },
  {
   "cell_type": "code",
   "execution_count": 54,
   "id": "b3f3460e",
   "metadata": {},
   "outputs": [
    {
     "data": {
      "text/plain": [
       "4"
      ]
     },
     "execution_count": 54,
     "metadata": {},
     "output_type": "execute_result"
    }
   ],
   "source": [
    "# delete values\n",
    "new_ordereddict.pop('cherry')"
   ]
  },
  {
   "cell_type": "code",
   "execution_count": 55,
   "id": "77f9b919",
   "metadata": {},
   "outputs": [
    {
     "name": "stdout",
     "output_type": "stream",
     "text": [
      "OrderedDict([('apple', 10), ('banana', 7), ('fig', 5)])\n"
     ]
    }
   ],
   "source": [
    "print(new_ordereddict)"
   ]
  },
  {
   "cell_type": "code",
   "execution_count": 56,
   "id": "ac0c3e80",
   "metadata": {},
   "outputs": [],
   "source": [
    "new_ordereddict.move_to_end('apple')"
   ]
  },
  {
   "cell_type": "code",
   "execution_count": 57,
   "id": "de77a03b",
   "metadata": {},
   "outputs": [
    {
     "name": "stdout",
     "output_type": "stream",
     "text": [
      "OrderedDict([('banana', 7), ('fig', 5), ('apple', 10)])\n"
     ]
    }
   ],
   "source": [
    "print(new_ordereddict)"
   ]
  },
  {
   "cell_type": "code",
   "execution_count": 58,
   "id": "213dac91",
   "metadata": {},
   "outputs": [
    {
     "name": "stdout",
     "output_type": "stream",
     "text": [
      "apple\n",
      "fig\n",
      "banana\n"
     ]
    }
   ],
   "source": [
    "# reverse iteration\n",
    "for item in reversed(new_ordereddict):\n",
    "    print(item)"
   ]
  },
  {
   "cell_type": "markdown",
   "id": "dfecb774",
   "metadata": {},
   "source": [
    "# Queue in Python"
   ]
  },
  {
   "cell_type": "code",
   "execution_count": 71,
   "id": "f86e23c2",
   "metadata": {},
   "outputs": [],
   "source": [
    "from queue import Queue"
   ]
  },
  {
   "cell_type": "code",
   "execution_count": 72,
   "id": "6163c956",
   "metadata": {},
   "outputs": [],
   "source": [
    "waiting_list = Queue()"
   ]
  },
  {
   "cell_type": "code",
   "execution_count": 73,
   "id": "3156f13f",
   "metadata": {},
   "outputs": [
    {
     "name": "stdout",
     "output_type": "stream",
     "text": [
      "<queue.Queue object at 0x000002B9DD13A5E0>\n"
     ]
    }
   ],
   "source": [
    "print(waiting_list)"
   ]
  },
  {
   "cell_type": "code",
   "execution_count": 63,
   "id": "78f1417e",
   "metadata": {},
   "outputs": [],
   "source": [
    "waiting_list.put('Ahmed')\n",
    "waiting_list.put('Ibra')\n",
    "waiting_list.put('Marcelo')\n",
    "waiting_list.put('Joe')"
   ]
  },
  {
   "cell_type": "code",
   "execution_count": 64,
   "id": "b986f091",
   "metadata": {},
   "outputs": [
    {
     "name": "stdout",
     "output_type": "stream",
     "text": [
      "Ahmed\n"
     ]
    }
   ],
   "source": [
    "print(waiting_list.get())"
   ]
  },
  {
   "cell_type": "code",
   "execution_count": 65,
   "id": "cbb75757",
   "metadata": {},
   "outputs": [
    {
     "name": "stdout",
     "output_type": "stream",
     "text": [
      "Ibra\n",
      "Marcelo\n",
      "Joe\n"
     ]
    }
   ],
   "source": [
    "print(waiting_list.get())\n",
    "print(waiting_list.get())\n",
    "print(waiting_list.get())"
   ]
  },
  {
   "cell_type": "markdown",
   "id": "74b43164",
   "metadata": {},
   "source": [
    "# Deque in Python"
   ]
  },
  {
   "cell_type": "code",
   "execution_count": 74,
   "id": "a39d869c",
   "metadata": {},
   "outputs": [],
   "source": [
    "from collections import deque"
   ]
  },
  {
   "cell_type": "code",
   "execution_count": 75,
   "id": "7c948847",
   "metadata": {},
   "outputs": [],
   "source": [
    "waiting_list = deque()"
   ]
  },
  {
   "cell_type": "code",
   "execution_count": 76,
   "id": "d7d9f2d8",
   "metadata": {},
   "outputs": [
    {
     "name": "stdout",
     "output_type": "stream",
     "text": [
      "deque([])\n"
     ]
    }
   ],
   "source": [
    "print(waiting_list)"
   ]
  },
  {
   "cell_type": "code",
   "execution_count": 77,
   "id": "b0dd1966",
   "metadata": {},
   "outputs": [],
   "source": [
    "waiting_list.append('Ahmed')\n",
    "waiting_list.append('Fred')\n",
    "waiting_list.append('ronald')\n",
    "waiting_list.append('Ibrahim')"
   ]
  },
  {
   "cell_type": "code",
   "execution_count": 78,
   "id": "a63ddef3",
   "metadata": {},
   "outputs": [
    {
     "name": "stdout",
     "output_type": "stream",
     "text": [
      "deque(['Ahmed', 'Fred', 'ronald', 'Ibrahim'])\n"
     ]
    }
   ],
   "source": [
    "print(waiting_list)"
   ]
  },
  {
   "cell_type": "code",
   "execution_count": 79,
   "id": "a0e87213",
   "metadata": {},
   "outputs": [
    {
     "data": {
      "text/plain": [
       "'Ahmed'"
      ]
     },
     "execution_count": 79,
     "metadata": {},
     "output_type": "execute_result"
    }
   ],
   "source": [
    "waiting_list.popleft()"
   ]
  },
  {
   "cell_type": "code",
   "execution_count": 80,
   "id": "a1360aad",
   "metadata": {},
   "outputs": [
    {
     "data": {
      "text/plain": [
       "deque(['Fred', 'ronald', 'Ibrahim'])"
      ]
     },
     "execution_count": 80,
     "metadata": {},
     "output_type": "execute_result"
    }
   ],
   "source": [
    "waiting_list"
   ]
  },
  {
   "cell_type": "code",
   "execution_count": 81,
   "id": "af0b075d",
   "metadata": {},
   "outputs": [],
   "source": [
    "waiting_list.clear()"
   ]
  },
  {
   "cell_type": "code",
   "execution_count": 82,
   "id": "46b0faca",
   "metadata": {},
   "outputs": [
    {
     "data": {
      "text/plain": [
       "deque([])"
      ]
     },
     "execution_count": 82,
     "metadata": {},
     "output_type": "execute_result"
    }
   ],
   "source": [
    "waiting_list"
   ]
  },
  {
   "cell_type": "code",
   "execution_count": null,
   "id": "469540d1",
   "metadata": {},
   "outputs": [],
   "source": []
  }
 ],
 "metadata": {
  "kernelspec": {
   "display_name": "Python 3",
   "language": "python",
   "name": "python3"
  },
  "language_info": {
   "codemirror_mode": {
    "name": "ipython",
    "version": 3
   },
   "file_extension": ".py",
   "mimetype": "text/x-python",
   "name": "python",
   "nbconvert_exporter": "python",
   "pygments_lexer": "ipython3",
   "version": "3.8.8"
  }
 },
 "nbformat": 4,
 "nbformat_minor": 5
}
