{
 "cells": [
  {
   "cell_type": "markdown",
   "id": "ff524b24",
   "metadata": {},
   "source": [
    "# Iterators in Python"
   ]
  },
  {
   "cell_type": "code",
   "execution_count": 9,
   "id": "c2e97986",
   "metadata": {},
   "outputs": [],
   "source": [
    "numbers = [10, 20, 30, 40, 50, 60, 70]\n",
    "\n",
    "new_iterator = iter(numbers)"
   ]
  },
  {
   "cell_type": "code",
   "execution_count": 10,
   "id": "83e5e778",
   "metadata": {},
   "outputs": [
    {
     "name": "stdout",
     "output_type": "stream",
     "text": [
      "10\n",
      "20\n",
      "30\n",
      "40\n",
      "50\n",
      "60\n"
     ]
    }
   ],
   "source": [
    "print(next(new_iterator))\n",
    "print(next(new_iterator))\n",
    "print(next(new_iterator))\n",
    "print(next(new_iterator))\n",
    "print(next(new_iterator))\n",
    "print(next(new_iterator))\n",
    "# print(next(new_iterator))"
   ]
  },
  {
   "cell_type": "code",
   "execution_count": 12,
   "id": "99e9c1d6",
   "metadata": {},
   "outputs": [
    {
     "name": "stdout",
     "output_type": "stream",
     "text": [
      "I\n",
      "t\n",
      "e\n",
      "r\n",
      "a\n",
      "t\n",
      "o\n",
      "r\n"
     ]
    }
   ],
   "source": [
    "seq = \"Iterator tutorial in python\"\n",
    "\n",
    "new_iterator = iter(seq)\n",
    "print(next(new_iterator))\n",
    "print(next(new_iterator))\n",
    "print(next(new_iterator))\n",
    "print(next(new_iterator))\n",
    "print(next(new_iterator))\n",
    "print(next(new_iterator))\n",
    "print(next(new_iterator))\n",
    "print(next(new_iterator))"
   ]
  },
  {
   "cell_type": "code",
   "execution_count": 13,
   "id": "d11cc2a7",
   "metadata": {},
   "outputs": [],
   "source": [
    "def new_iterator(n):\n",
    "    my_iterable = iter(n)\n",
    "    \n",
    "    while True:\n",
    "        try:\n",
    "            print(next(my_iterable))\n",
    "        except StopIteration:\n",
    "            break"
   ]
  },
  {
   "cell_type": "code",
   "execution_count": 14,
   "id": "611bcec2",
   "metadata": {},
   "outputs": [
    {
     "name": "stdout",
     "output_type": "stream",
     "text": [
      "10\n",
      "30\n",
      "50\n",
      "70\n"
     ]
    }
   ],
   "source": [
    "new_iterator([10, 30, 50, 70])"
   ]
  },
  {
   "cell_type": "code",
   "execution_count": 15,
   "id": "7033b490",
   "metadata": {},
   "outputs": [
    {
     "name": "stdout",
     "output_type": "stream",
     "text": [
      "11\n",
      "12\n",
      "13\n",
      "14\n",
      "15\n"
     ]
    }
   ],
   "source": [
    "new_iterator((11, 12, 13, 14, 15))"
   ]
  },
  {
   "cell_type": "code",
   "execution_count": 16,
   "id": "cd33ffe5",
   "metadata": {},
   "outputs": [
    {
     "name": "stdout",
     "output_type": "stream",
     "text": [
      "A\n",
      " \n",
      "P\n",
      "o\n",
      "w\n",
      "e\n",
      "r\n",
      "f\n",
      "u\n",
      "l\n",
      " \n",
      "i\n",
      "t\n",
      "e\n",
      "r\n",
      "a\n",
      "t\n",
      "o\n",
      "r\n",
      " \n",
      "f\n",
      "u\n",
      "n\n",
      "c\n",
      "t\n",
      "i\n",
      "o\n",
      "n\n",
      "!\n"
     ]
    }
   ],
   "source": [
    "new_iterator(\"A Powerful iterator function!\")"
   ]
  },
  {
   "cell_type": "code",
   "execution_count": 23,
   "id": "a5014b02",
   "metadata": {},
   "outputs": [],
   "source": [
    "# Building Iterator using OOP\n",
    "class Incrementing:\n",
    "    def __iter__(self):\n",
    "        self.count = 0\n",
    "        return self\n",
    "    \n",
    "    def __next__(self):\n",
    "        if self.count <= 15:\n",
    "            x = self.count\n",
    "            self.count = self.count + 1\n",
    "            return x\n",
    "        else:\n",
    "            raise StopIteration"
   ]
  },
  {
   "cell_type": "code",
   "execution_count": 24,
   "id": "cd4da055",
   "metadata": {},
   "outputs": [],
   "source": [
    "new_obj = Incrementing()\n",
    "new_iter = iter(new_obj)"
   ]
  },
  {
   "cell_type": "code",
   "execution_count": 25,
   "id": "11c6a689",
   "metadata": {},
   "outputs": [
    {
     "name": "stdout",
     "output_type": "stream",
     "text": [
      "0\n",
      "1\n",
      "2\n",
      "3\n",
      "4\n",
      "5\n",
      "6\n"
     ]
    }
   ],
   "source": [
    "print(next(new_iter))\n",
    "print(next(new_iter))\n",
    "print(next(new_iter))\n",
    "print(next(new_iter))\n",
    "print(next(new_iter))\n",
    "print(next(new_iter))\n",
    "print(next(new_iter))"
   ]
  },
  {
   "cell_type": "code",
   "execution_count": 26,
   "id": "1a7d9562",
   "metadata": {},
   "outputs": [
    {
     "name": "stdout",
     "output_type": "stream",
     "text": [
      "0\n",
      "1\n",
      "2\n",
      "3\n",
      "4\n",
      "5\n",
      "6\n",
      "7\n",
      "8\n",
      "9\n",
      "10\n",
      "11\n",
      "12\n",
      "13\n",
      "14\n",
      "15\n"
     ]
    }
   ],
   "source": [
    "for num in Incrementing():\n",
    "    print(num)"
   ]
  },
  {
   "cell_type": "code",
   "execution_count": null,
   "id": "1f363821",
   "metadata": {},
   "outputs": [],
   "source": []
  }
 ],
 "metadata": {
  "kernelspec": {
   "display_name": "Python 3",
   "language": "python",
   "name": "python3"
  },
  "language_info": {
   "codemirror_mode": {
    "name": "ipython",
    "version": 3
   },
   "file_extension": ".py",
   "mimetype": "text/x-python",
   "name": "python",
   "nbconvert_exporter": "python",
   "pygments_lexer": "ipython3",
   "version": "3.8.8"
  }
 },
 "nbformat": 4,
 "nbformat_minor": 5
}
