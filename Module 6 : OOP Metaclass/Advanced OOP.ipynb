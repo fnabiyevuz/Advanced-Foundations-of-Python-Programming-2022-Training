{
 "cells": [
  {
   "cell_type": "markdown",
   "id": "b1ad0d5e",
   "metadata": {},
   "source": [
    "# metaclass in Python"
   ]
  },
  {
   "cell_type": "code",
   "execution_count": 1,
   "id": "0d39130b",
   "metadata": {},
   "outputs": [
    {
     "name": "stdout",
     "output_type": "stream",
     "text": [
      "<class '__main__.NewSample'>\n"
     ]
    }
   ],
   "source": [
    "class NewSample():\n",
    "    pass\n",
    "\n",
    "new_obj = NewSample()\n",
    "print(type(new_obj))"
   ]
  },
  {
   "cell_type": "code",
   "execution_count": 2,
   "id": "23f49704",
   "metadata": {},
   "outputs": [
    {
     "name": "stdout",
     "output_type": "stream",
     "text": [
      "<class 'type'>\n"
     ]
    }
   ],
   "source": [
    "print(type(NewSample))"
   ]
  },
  {
   "cell_type": "code",
   "execution_count": 3,
   "id": "cca9e8c6",
   "metadata": {},
   "outputs": [],
   "source": [
    "# Building class using metaclass\n",
    "Player = type('Player', (Team,), {})"
   ]
  },
  {
   "cell_type": "code",
   "execution_count": 7,
   "id": "67ae5874",
   "metadata": {},
   "outputs": [],
   "source": [
    "# Adding attributes and functions\n",
    "class Player:\n",
    "    def __init__(self, name, roll):\n",
    "        self.name = name\n",
    "        self.roll = roll\n",
    "        self.number = 7"
   ]
  },
  {
   "cell_type": "code",
   "execution_count": 10,
   "id": "f4deeadc",
   "metadata": {},
   "outputs": [],
   "source": [
    "def init(self, name, roll):\n",
    "    self.name = name\n",
    "    self.roll = roll\n",
    "    self.number = 7\n",
    "    \n",
    "Player = type('Player', (), {'__init__' : init})\n",
    "new_obj = Player(\"Ahmed\", \"70\")"
   ]
  },
  {
   "cell_type": "code",
   "execution_count": 11,
   "id": "b8368656",
   "metadata": {},
   "outputs": [
    {
     "name": "stdout",
     "output_type": "stream",
     "text": [
      "<class '__main__.Player'>\n"
     ]
    }
   ],
   "source": [
    "print(new_obj.__class__)"
   ]
  },
  {
   "cell_type": "code",
   "execution_count": 13,
   "id": "9c2f3fc8",
   "metadata": {},
   "outputs": [
    {
     "name": "stdout",
     "output_type": "stream",
     "text": [
      "<class '__main__.NewMeta'>\n",
      "<class 'type'>\n"
     ]
    }
   ],
   "source": [
    "# Building metaclass\n",
    "class NewMeta(type):\n",
    "    __metaclass__ = type\n",
    "    # add methods and behaviors\n",
    "    \n",
    "class NewDemo:\n",
    "    __metaclass__ = NewMeta\n",
    "\n",
    "new_object = NewDemo()\n",
    "\n",
    "print(new_object.__metaclass__)\n",
    "print(NewMeta.__metaclass__)"
   ]
  },
  {
   "cell_type": "markdown",
   "id": "4e3945c3",
   "metadata": {},
   "source": [
    "# Slots"
   ]
  },
  {
   "cell_type": "code",
   "execution_count": 1,
   "id": "042b7b81",
   "metadata": {},
   "outputs": [],
   "source": [
    "class New(object):\n",
    "    pass"
   ]
  },
  {
   "cell_type": "code",
   "execution_count": 2,
   "id": "8faf769d",
   "metadata": {},
   "outputs": [],
   "source": [
    "new_ob = New()\n",
    "new_ob.x = 45\n",
    "new_ob.y = \"This is called dynamically created attribute!\""
   ]
  },
  {
   "cell_type": "code",
   "execution_count": 3,
   "id": "4264d5cb",
   "metadata": {},
   "outputs": [
    {
     "data": {
      "text/plain": [
       "{'x': 45, 'y': 'This is called dynamically created attribute!'}"
      ]
     },
     "execution_count": 3,
     "metadata": {},
     "output_type": "execute_result"
    }
   ],
   "source": [
    "new_ob.__dict__"
   ]
  },
  {
   "cell_type": "code",
   "execution_count": 4,
   "id": "3c64f177",
   "metadata": {},
   "outputs": [
    {
     "ename": "AttributeError",
     "evalue": "'int' object has no attribute 'i'",
     "output_type": "error",
     "traceback": [
      "\u001b[1;31m---------------------------------------------------------------------------\u001b[0m",
      "\u001b[1;31mAttributeError\u001b[0m                            Traceback (most recent call last)",
      "\u001b[1;32m<ipython-input-4-fb2008c11e53>\u001b[0m in \u001b[0;36m<module>\u001b[1;34m\u001b[0m\n\u001b[0;32m      1\u001b[0m \u001b[1;31m# Can't do that with built-in classes\u001b[0m\u001b[1;33m\u001b[0m\u001b[1;33m\u001b[0m\u001b[1;33m\u001b[0m\u001b[0m\n\u001b[0;32m      2\u001b[0m \u001b[0ma\u001b[0m \u001b[1;33m=\u001b[0m \u001b[1;36m50\u001b[0m\u001b[1;33m\u001b[0m\u001b[1;33m\u001b[0m\u001b[0m\n\u001b[1;32m----> 3\u001b[1;33m \u001b[0ma\u001b[0m\u001b[1;33m.\u001b[0m\u001b[0mi\u001b[0m \u001b[1;33m=\u001b[0m \u001b[1;34m\"Can't do this, it's impossible\"\u001b[0m\u001b[1;33m\u001b[0m\u001b[1;33m\u001b[0m\u001b[0m\n\u001b[0m",
      "\u001b[1;31mAttributeError\u001b[0m: 'int' object has no attribute 'i'"
     ]
    }
   ],
   "source": [
    "# Can't do that with built-in classes\n",
    "a = 50\n",
    "a.i = \"Can't do this, it's impossible\""
   ]
  },
  {
   "cell_type": "code",
   "execution_count": 5,
   "id": "03cf52f4",
   "metadata": {},
   "outputs": [
    {
     "ename": "AttributeError",
     "evalue": "'list' object has no attribute 'x'",
     "output_type": "error",
     "traceback": [
      "\u001b[1;31m---------------------------------------------------------------------------\u001b[0m",
      "\u001b[1;31mAttributeError\u001b[0m                            Traceback (most recent call last)",
      "\u001b[1;32m<ipython-input-5-061533f9b848>\u001b[0m in \u001b[0;36m<module>\u001b[1;34m\u001b[0m\n\u001b[0;32m      1\u001b[0m \u001b[0mnew_list\u001b[0m \u001b[1;33m=\u001b[0m \u001b[1;33m[\u001b[0m\u001b[1;36m10\u001b[0m\u001b[1;33m,\u001b[0m \u001b[1;36m29\u001b[0m\u001b[1;33m,\u001b[0m \u001b[1;36m30\u001b[0m\u001b[1;33m]\u001b[0m\u001b[1;33m\u001b[0m\u001b[1;33m\u001b[0m\u001b[0m\n\u001b[1;32m----> 2\u001b[1;33m \u001b[0mnew_list\u001b[0m\u001b[1;33m.\u001b[0m\u001b[0mx\u001b[0m \u001b[1;33m=\u001b[0m \u001b[1;34m\"No, you can't\"\u001b[0m\u001b[1;33m\u001b[0m\u001b[1;33m\u001b[0m\u001b[0m\n\u001b[0m",
      "\u001b[1;31mAttributeError\u001b[0m: 'list' object has no attribute 'x'"
     ]
    }
   ],
   "source": [
    "new_list = [10, 29, 30]\n",
    "new_list.x = \"No, you can't\""
   ]
  },
  {
   "cell_type": "code",
   "execution_count": 6,
   "id": "d2002b37",
   "metadata": {},
   "outputs": [],
   "source": [
    "# Building slot\n",
    "class New_Slot(object):\n",
    "    __slots__ = ['val']\n",
    "    \n",
    "    def __init__(self, i):\n",
    "        self.val = i"
   ]
  },
  {
   "cell_type": "code",
   "execution_count": 7,
   "id": "cc721343",
   "metadata": {},
   "outputs": [
    {
     "name": "stdout",
     "output_type": "stream",
     "text": [
      "100\n"
     ]
    }
   ],
   "source": [
    "x = New_Slot(100)\n",
    "print(x.val)"
   ]
  },
  {
   "cell_type": "code",
   "execution_count": 8,
   "id": "f856e1d4",
   "metadata": {},
   "outputs": [
    {
     "ename": "AttributeError",
     "evalue": "'New_Slot' object has no attribute 'n'",
     "output_type": "error",
     "traceback": [
      "\u001b[1;31m---------------------------------------------------------------------------\u001b[0m",
      "\u001b[1;31mAttributeError\u001b[0m                            Traceback (most recent call last)",
      "\u001b[1;32m<ipython-input-8-9ebc53aab599>\u001b[0m in \u001b[0;36m<module>\u001b[1;34m\u001b[0m\n\u001b[1;32m----> 1\u001b[1;33m \u001b[0mx\u001b[0m\u001b[1;33m.\u001b[0m\u001b[0mn\u001b[0m \u001b[1;33m=\u001b[0m \u001b[1;34m\"You can't\"\u001b[0m\u001b[1;33m\u001b[0m\u001b[1;33m\u001b[0m\u001b[0m\n\u001b[0m",
      "\u001b[1;31mAttributeError\u001b[0m: 'New_Slot' object has no attribute 'n'"
     ]
    }
   ],
   "source": [
    "x.n = \"You can't\""
   ]
  },
  {
   "cell_type": "markdown",
   "id": "45fc73a2",
   "metadata": {},
   "source": [
    "# Slots prevent a waste of space!"
   ]
  },
  {
   "cell_type": "code",
   "execution_count": null,
   "id": "700ec5dd",
   "metadata": {},
   "outputs": [],
   "source": []
  }
 ],
 "metadata": {
  "kernelspec": {
   "display_name": "Python 3",
   "language": "python",
   "name": "python3"
  },
  "language_info": {
   "codemirror_mode": {
    "name": "ipython",
    "version": 3
   },
   "file_extension": ".py",
   "mimetype": "text/x-python",
   "name": "python",
   "nbconvert_exporter": "python",
   "pygments_lexer": "ipython3",
   "version": "3.8.8"
  }
 },
 "nbformat": 4,
 "nbformat_minor": 5
}
