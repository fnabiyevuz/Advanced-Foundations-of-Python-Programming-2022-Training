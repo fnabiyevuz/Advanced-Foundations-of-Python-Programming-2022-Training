{
 "cells": [
  {
   "cell_type": "markdown",
   "id": "f0f86156",
   "metadata": {},
   "source": [
    "# List Comprehension"
   ]
  },
  {
   "cell_type": "code",
   "execution_count": 1,
   "id": "bcfbbaa7",
   "metadata": {},
   "outputs": [
    {
     "name": "stdout",
     "output_type": "stream",
     "text": [
      "['fig', 'kiwi']\n"
     ]
    }
   ],
   "source": [
    "# Regular way\n",
    "fruits_list = [\"fig\", \"banana\", \"kiwi\", \"cherry\"]\n",
    "my_list = []\n",
    "\n",
    "for item in fruits_list:\n",
    "  if \"i\" in item:\n",
    "    my_list.append(item)\n",
    "\n",
    "print(my_list)"
   ]
  },
  {
   "cell_type": "code",
   "execution_count": 3,
   "id": "79ef8eb5",
   "metadata": {},
   "outputs": [
    {
     "name": "stdout",
     "output_type": "stream",
     "text": [
      "['cherry']\n"
     ]
    }
   ],
   "source": [
    "# Use list comprehension\n",
    "fruits_list = [\"fig\", \"banana\", \"kiwi\", \"cherry\"]\n",
    "my_list = [item for item in fruits_list if \"e\" in item]\n",
    "\n",
    "print(my_list)"
   ]
  },
  {
   "cell_type": "code",
   "execution_count": 4,
   "id": "8c6da160",
   "metadata": {},
   "outputs": [
    {
     "name": "stdout",
     "output_type": "stream",
     "text": [
      "['P', 'o', 'w', 'e', 'r', ' ', 'o', 'f', ' ', 'c', 'o', 'm', 'p', 'r', 'e', 'h', 'e', 'n', 's', 'i', 'o', 'n']\n"
     ]
    }
   ],
   "source": [
    "# Iterate over sequence with regular way\n",
    "new_list = [] #empty list\n",
    "\n",
    "for new_char in \"Power of comprehension\":\n",
    "    new_list.append(new_char)\n",
    "    \n",
    "print(new_list) #printing the list "
   ]
  },
  {
   "cell_type": "code",
   "execution_count": 5,
   "id": "6d23b65b",
   "metadata": {},
   "outputs": [
    {
     "name": "stdout",
     "output_type": "stream",
     "text": [
      "['P', 'o', 'w', 'e', 'r', ' ', 'o', 'f', ' ', 'c', 'o', 'm', 'p', 'r', 'e', 'h', 'e', 'n', 's', 'i', 'o', 'n']\n"
     ]
    }
   ],
   "source": [
    "# The same as\n",
    "new_list = [new_char for new_char in \"Power of comprehension\"]\n",
    "\n",
    "print(new_list) # printing the list"
   ]
  },
  {
   "cell_type": "code",
   "execution_count": 6,
   "id": "f7d6dcdd",
   "metadata": {},
   "outputs": [
    {
     "name": "stdout",
     "output_type": "stream",
     "text": [
      "[[0, 1, 2, 3, 4, 5, 6, 7], [0, 1, 2, 3, 4, 5, 6, 7], [0, 1, 2, 3, 4, 5, 6, 7], [0, 1, 2, 3, 4, 5, 6, 7], [0, 1, 2, 3, 4, 5, 6, 7]]\n"
     ]
    }
   ],
   "source": [
    "# You can use nested list comprehension\n",
    "new_matrix = []\n",
    " \n",
    "for x in range(5):\n",
    "    new_matrix.append([]) # adding empty sublist inside the list\n",
    "     \n",
    "    for y in range(8):\n",
    "        new_matrix[x].append(y)\n",
    "         \n",
    "print(new_matrix)"
   ]
  },
  {
   "cell_type": "code",
   "execution_count": 7,
   "id": "c1ee346c",
   "metadata": {},
   "outputs": [
    {
     "name": "stdout",
     "output_type": "stream",
     "text": [
      "[[0, 1, 2, 3, 4, 5, 6, 7], [0, 1, 2, 3, 4, 5, 6, 7], [0, 1, 2, 3, 4, 5, 6, 7], [0, 1, 2, 3, 4, 5, 6, 7], [0, 1, 2, 3, 4, 5, 6, 7]]\n"
     ]
    }
   ],
   "source": [
    "new_matrix = [[y for y in range(8)] for x in range(5)]\n",
    "\n",
    "print(new_matrix)"
   ]
  },
  {
   "cell_type": "markdown",
   "id": "216bc28d",
   "metadata": {},
   "source": [
    "# Dictionary Comprehension"
   ]
  },
  {
   "cell_type": "code",
   "execution_count": 8,
   "id": "08ade790",
   "metadata": {},
   "outputs": [],
   "source": [
    "numbers = [100, 200, 300, 400, 500]\n",
    "students = ['Joe', 'Ronald', 'Ahmed', 'Marcelo', 'Alves']"
   ]
  },
  {
   "cell_type": "code",
   "execution_count": 12,
   "id": "a8bd5448",
   "metadata": {},
   "outputs": [
    {
     "name": "stdout",
     "output_type": "stream",
     "text": [
      "{'Joe': 1, 'Ronald': 5, 'Ahmed': 10, 'Marcelo': 15, 'Alves': 20}\n"
     ]
    }
   ],
   "source": [
    "new_dict = {x: y for (x, y) in zip(students, numbers)}\n",
    "print(new_dict)"
   ]
  },
  {
   "cell_type": "code",
   "execution_count": 13,
   "id": "f914e114",
   "metadata": {},
   "outputs": [
    {
     "name": "stdout",
     "output_type": "stream",
     "text": [
      "{10: 100, 20: 400}\n"
     ]
    }
   ],
   "source": [
    "numbers = [1, 5, 10, 15, 20, 25]\n",
    "my_dictionary = {x: x ** 2 for x in numbers if x ** 2 % 4 == 0}\n",
    "print(my_dictionary)"
   ]
  },
  {
   "cell_type": "markdown",
   "id": "6d6316cf",
   "metadata": {},
   "source": [
    "# Set Comprehension"
   ]
  },
  {
   "cell_type": "code",
   "execution_count": 14,
   "id": "3aac9c23",
   "metadata": {},
   "outputs": [],
   "source": [
    "numbers = [100, 200, 300, 400, 500]\n",
    "new_set = {s for s in numbers}"
   ]
  },
  {
   "cell_type": "code",
   "execution_count": 15,
   "id": "99f0b57c",
   "metadata": {},
   "outputs": [
    {
     "name": "stdout",
     "output_type": "stream",
     "text": [
      "{100, 200, 300, 400, 500}\n"
     ]
    }
   ],
   "source": [
    "print(new_set)"
   ]
  },
  {
   "cell_type": "code",
   "execution_count": 16,
   "id": "f0b4c7d7",
   "metadata": {},
   "outputs": [
    {
     "name": "stdout",
     "output_type": "stream",
     "text": [
      "{160000, 40000, 10000, 90000, 250000}\n"
     ]
    }
   ],
   "source": [
    "new_set = {s ** 2 for s in numbers}\n",
    "print(new_set)"
   ]
  },
  {
   "cell_type": "code",
   "execution_count": 17,
   "id": "f56a42e3",
   "metadata": {},
   "outputs": [
    {
     "data": {
      "text/plain": [
       "{0, 1, 4, 9, 16, 25, 36, 49}"
      ]
     },
     "execution_count": 17,
     "metadata": {},
     "output_type": "execute_result"
    }
   ],
   "source": [
    "{n ** 2 for n in range(8)}"
   ]
  },
  {
   "cell_type": "code",
   "execution_count": 20,
   "id": "8a1608ef",
   "metadata": {},
   "outputs": [],
   "source": [
    "numbers = [1, 2, 3, 4, 5]\n",
    "new_set = {s for s in numbers if s % 2 == 0}"
   ]
  },
  {
   "cell_type": "code",
   "execution_count": 21,
   "id": "5612d51e",
   "metadata": {},
   "outputs": [
    {
     "name": "stdout",
     "output_type": "stream",
     "text": [
      "{2, 4}\n"
     ]
    }
   ],
   "source": [
    "print(new_set)"
   ]
  },
  {
   "cell_type": "markdown",
   "id": "38fe515b",
   "metadata": {},
   "source": [
    "# Tuple comprehension by generator expression"
   ]
  },
  {
   "cell_type": "code",
   "execution_count": 26,
   "id": "dcd6ceba",
   "metadata": {},
   "outputs": [
    {
     "name": "stdout",
     "output_type": "stream",
     "text": [
      "(1, 2, 3, 4)\n"
     ]
    }
   ],
   "source": [
    "new_tuple = tuple(n for n in (1, 2, 3, 4))\n",
    "print(new_tuple)"
   ]
  },
  {
   "cell_type": "code",
   "execution_count": 28,
   "id": "7622e2b4",
   "metadata": {},
   "outputs": [
    {
     "name": "stdout",
     "output_type": "stream",
     "text": [
      "(2, 4, 6)\n"
     ]
    }
   ],
   "source": [
    "numbers = [1, 2, 3, 4, 5, 6, 7]\n",
    "new_tuple = tuple(t for t in numbers if t % 2 == 0)\n",
    "\n",
    "print(new_tuple)"
   ]
  },
  {
   "cell_type": "code",
   "execution_count": null,
   "id": "62dc885b",
   "metadata": {},
   "outputs": [],
   "source": []
  }
 ],
 "metadata": {
  "kernelspec": {
   "display_name": "Python 3",
   "language": "python",
   "name": "python3"
  },
  "language_info": {
   "codemirror_mode": {
    "name": "ipython",
    "version": 3
   },
   "file_extension": ".py",
   "mimetype": "text/x-python",
   "name": "python",
   "nbconvert_exporter": "python",
   "pygments_lexer": "ipython3",
   "version": "3.8.8"
  }
 },
 "nbformat": 4,
 "nbformat_minor": 5
}
